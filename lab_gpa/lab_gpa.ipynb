{
 "cells": [
  {
   "cell_type": "markdown",
   "metadata": {},
   "source": [
    "# Lab: GPA 🎓\n",
    "\n",
    "In this lab, you'll explore the GPA dataset and find out about the easiest, hardest, and most popular courses at Illinois!\n",
    "\n",
    "The dataset you're using in this lab is the same dataset that Professor Wade uses to make the GPA visualizations! :)  Check this out here if you haven't seen it already: [https://waf.cs.illinois.edu/discovery/grade_disparity_between_sections_at_uiuc/](https://waf.cs.illinois.edu/discovery/grade_disparity_between_sections_at_uiuc/)\n",
    "\n",
    "A few tips to remember:\n",
    "\n",
    "- Refer to your **lecture notebook** and the **pandas cheat sheet** to help you out with the code!\n",
    "- If you find yourself stuck for more than a few minutes, ask a neighbor or course staff for help!  When you're giving help to your neighbor, explain the **idea and approach** to the problem without sharing the answer itself so they can have the same **<i>ah-hah</i>** moment!\n",
    "- We're here to help you!  Don't feel embarrassed or shy to ask us for help!\n",
    "\n",
    "Let's get started!"
   ]
  },
  {
   "cell_type": "markdown",
   "metadata": {},
   "source": [
    "\n",
    "<hr style=\"color: #DD3403;\">"
   ]
  },
  {
   "cell_type": "markdown",
   "metadata": {},
   "source": [
    "## Your Lab Group\n",
    "\n",
    "Edit the next Python cell to add information about who you're working within your lab section:"
   ]
  },
  {
   "cell_type": "code",
   "execution_count": 1,
   "metadata": {},
   "outputs": [],
   "source": [
    "# First, meet your CAs and TA if you haven't already!\n",
    "# First name is enough, we'll know who they are! :)\n",
    "ta_name = \"\"\n",
    "ca1_name = \"\"\n",
    "ca2_name = \"\"\n",
    "\n",
    "\n",
    "# Say hello to each other!\n",
    "# - Groups of 3 are ideal :)\n",
    "# - However, groups of 2 or 4 are fine too!\n",
    "#\n",
    "# QOTD to Ask Your Group: \"Not including STAT 107, what is your favorite course this semester?\"\n",
    "partner1_name = \"\"\n",
    "partner1_netid = \"\"\n",
    "partner1_fav_course = \"\"\n",
    "\n",
    "partner2_name = \"\"\n",
    "partner2_netid = \"\"\n",
    "partner2_fav_course = \"\"\n",
    "\n",
    "partner3_name = \"\"\n",
    "partner3_netid = \"\"\n",
    "partner3_fav_course = \"\""
   ]
  },
  {
   "cell_type": "markdown",
   "metadata": {},
   "source": [
    "<hr style=\"color: #DD3403;\">"
   ]
  },
  {
   "cell_type": "markdown",
   "metadata": {},
   "source": [
    "## Puzzle 1: Basic Data Manipulation\n",
    "\n",
    "### Puzzle 1.1: Loading the Dataset\n",
    "\n",
    "For the first part of our lab, we'll be using the GPA dataset, which should be automatically downloaded when you fetch this notebook. \n",
    "\n",
    "In the following cell, load the pandas library and read the dataset into `df`.  You can find the GPA dataset at:\n",
    "\n",
    "```\n",
    "https://waf.cs.illinois.edu/discovery/gpa.csv\n",
    "```"
   ]
  },
  {
   "cell_type": "code",
   "execution_count": null,
   "metadata": {},
   "outputs": [],
   "source": [
    "# Import the gpa.csv dataset below\n"
   ]
  },
  {
   "cell_type": "markdown",
   "metadata": {},
   "source": [
    "### Puzzle 1.2: Adding Helper Columns\n",
    "\n",
    "Add a new column called `\"Average GPA\"`, that computes the average GPA for each course.  You've done this in the PL Homework, but now you're doing it for real! :)\n",
    "\n",
    "- You shouldn't include students with a `\"W\"` in either column.\n",
    "- The grade point scale can be found at https://registrar.illinois.edu/courses-grades/explanation-of-grades/."
   ]
  },
  {
   "cell_type": "code",
   "execution_count": null,
   "metadata": {
    "nbgrader": {
     "grade": false,
     "grade_id": "cell-1043285927ac8a85",
     "locked": false,
     "schema_version": 3,
     "solution": true,
     "task": false
    }
   },
   "outputs": [],
   "source": [
    "# add the new column here"
   ]
  },
  {
   "cell_type": "markdown",
   "metadata": {},
   "source": [
    "### 🔬 Test Case Checkpoint 🔬"
   ]
  },
  {
   "cell_type": "code",
   "execution_count": null,
   "metadata": {
    "nbgrader": {
     "grade": true,
     "grade_id": "cell-46729cc74c213e52",
     "locked": true,
     "points": 1,
     "schema_version": 3,
     "solution": false,
     "task": false
    }
   },
   "outputs": [],
   "source": [
    "## == TEST CASES for Puzzle 1.2 ==\n",
    "# - This read-only cell contains test cases for your previous cell.\n",
    "# - If this cell runs without any error or output, you PASSED all test cases!\n",
    "# - If this cell results in any errors, check your previous cell, make changes, and RE-RUN your code and then this cell.\n",
    "assert(abs(df[(df[\"YearTerm\"] == \"2018-fa\") & (df[\"Subject\"] == \"STAT\") & (df[\"Number\"] == 100)][\"Average GPA\"].mean() - 3.247) < 0.01), \"It appears that your \\\"Average GPA\\\" column is incorrect.\"\n",
    "\n",
    "## == SUCCESS MESSAGE ==\n",
    "# You'll only see this message (With the emoji showing) if you passed all test cases:\n",
    "tada = \"\\N{PARTY POPPER}\"\n",
    "print(f\"{tada} All tests passed! {tada}\")"
   ]
  },
  {
   "cell_type": "markdown",
   "metadata": {},
   "source": [
    "<hr style=\"color: #DD3403;\">"
   ]
  },
  {
   "cell_type": "markdown",
   "metadata": {
    "nbgrader": {
     "grade": false,
     "grade_id": "cell-7cf39ab5f78a3f48",
     "locked": false,
     "schema_version": 3,
     "solution": false,
     "task": false
    }
   },
   "source": [
    "## Puzzle 2: Finding the Easiest and Hardest Courses\n",
    "\n",
    "### Puzzle 2.1: Hardest Courses in the Dataset\n",
    "\n",
    "Based on the `\"Average GPA\"` column, find the **30 hardest courses** at Illinois, i.e., the 30 courses with the lowest \"Average GPA\". Store the results in `df_hard`."
   ]
  },
  {
   "cell_type": "code",
   "execution_count": null,
   "metadata": {
    "nbgrader": {
     "grade": false,
     "grade_id": "cell-13f6d92b7a658526",
     "locked": false,
     "schema_version": 3,
     "solution": true,
     "task": false
    }
   },
   "outputs": [],
   "source": [
    "df_hard = ...\n",
    "df_hard"
   ]
  },
  {
   "cell_type": "markdown",
   "metadata": {
    "nbgrader": {
     "grade": false,
     "grade_id": "cell-02a6a9a1be700b2e",
     "locked": false,
     "schema_version": 3,
     "solution": false,
     "task": false
    }
   },
   "source": [
    "### Puzzle 2.2: \"Level\" of Hardest Courses\n",
    "\n",
    "Find the average `\"Number\"` of the **30 hardest courses** at Illinois. Store the result as `df_hard_avg`."
   ]
  },
  {
   "cell_type": "code",
   "execution_count": null,
   "metadata": {
    "nbgrader": {
     "grade": false,
     "grade_id": "cell-a7106dca7694711c",
     "locked": false,
     "schema_version": 3,
     "solution": true,
     "task": false
    }
   },
   "outputs": [],
   "source": [
    "df_hard_avg = ...\n",
    "df_hard_avg"
   ]
  },
  {
   "cell_type": "markdown",
   "metadata": {},
   "source": [
    "### 🔬 Test Case Checkpoint 🔬"
   ]
  },
  {
   "cell_type": "code",
   "execution_count": null,
   "metadata": {
    "nbgrader": {
     "grade": true,
     "grade_id": "cell-46729cc74c213e52",
     "locked": true,
     "points": 1,
     "schema_version": 3,
     "solution": false,
     "task": false
    }
   },
   "outputs": [],
   "source": [
    "## == TEST CASES for Puzzle 2.1 and 2.2 ==\n",
    "# - This read-only cell contains test cases for your previous cell.\n",
    "# - If this cell runs without any error or output, you PASSED all test cases!\n",
    "# - If this cell results in any errors, check your previous cell(s), make changes, and RE-RUN your code and then this cell.\n",
    "import math\n",
    "assert( math.isclose(df_hard_avg, 160.83333333333334) ), \"It appears that your average \\\"Number\\\" is incorrect. Please check both Puzzle 2.1 and Puzzle 2.2.\"\n",
    "## == SUCCESS MESSAGE ==\n",
    "# You'll only see this message (With the emoji showing) if you passed all test cases:\n",
    "tada = \"\\N{PARTY POPPER}\"\n",
    "print(f\"{tada} All tests passed! {tada}\")"
   ]
  },
  {
   "cell_type": "markdown",
   "metadata": {},
   "source": [
    "### Puzzle 2.3: ❓ Individual Reflection Question ❓ Are the Hardest Courses Really \"Hard\"?\n",
    "\n",
    "After solving Puzzle 2.1 and 2.2, your friend has the following claim:\n",
    "\n",
    "> *\"We know that the undergraduate courses are coded from 001 to 499, where a larger number (in the hundreds place) usually implies more advanced material.  Based on our results in the previous puzzles, the data shows that the junior-level and senior-level courses are clearly not the hardest courses at UIUC.\"*\n",
    "\n",
    "Comment on your friend's claim below. Do you think he is correct? Explain why or why not in at least three complete sentences."
   ]
  },
  {
   "cell_type": "markdown",
   "metadata": {},
   "source": [
    "*(✏️ Edit this cell to replace this text wth your answer this puzzle. ✏️)*"
   ]
  },
  {
   "cell_type": "markdown",
   "metadata": {},
   "source": [
    "### Puzzle 2.4: Easiest Courses in 2021\n",
    "\n",
    "Based on the `\"Average GPA\"` column, find the **30 easiest courses in 2021** at UIUC. Store the results in `df_easy_2021`."
   ]
  },
  {
   "cell_type": "code",
   "execution_count": null,
   "metadata": {
    "nbgrader": {
     "grade": false,
     "grade_id": "cell-44d17a2ef57b1a19",
     "locked": false,
     "schema_version": 3,
     "solution": true,
     "task": false
    }
   },
   "outputs": [],
   "source": [
    "df_easy_2021 = ...\n",
    "df_easy_2021"
   ]
  },
  {
   "cell_type": "markdown",
   "metadata": {},
   "source": [
    "### 🔬 Test Case Checkpoint 🔬"
   ]
  },
  {
   "cell_type": "code",
   "execution_count": null,
   "metadata": {
    "nbgrader": {
     "grade": true,
     "grade_id": "cell-af77ae707b9fa776",
     "locked": true,
     "points": 1,
     "schema_version": 3,
     "solution": false,
     "task": false
    }
   },
   "outputs": [],
   "source": [
    "## == TEST CASES for Puzzle 2.4 ==\n",
    "# - This read-only cell contains test cases for your previous cell.\n",
    "# - If this cell runs without any error or output, you PASSED all test cases!\n",
    "# - If this cell results in any errors, check your previous cell, make changes, RE-RUN your code, and then RE-RUN this cell.\n",
    "import math\n",
    "assert( len(df_easy_2021) == 30 ), \"You should only have the 30 easiest courses in 2021.\"\n",
    "assert( math.isclose(df_easy_2021[\"Average GPA\"].mean(), 3.97873347181759) ), \"Are you sure you have the 30 easiest courses in 2021?\"\n",
    "## == SUCCESS MESSAGE ==\n",
    "# You'll only see this message (With the emoji showing) if you passed all test cases:\n",
    "tada = \"\\N{PARTY POPPER}\"\n",
    "print(f\"{tada} All tests passed! {tada}\")"
   ]
  },
  {
   "cell_type": "markdown",
   "metadata": {},
   "source": [
    "<hr style=\"color: #DD3403;\">"
   ]
  },
  {
   "cell_type": "markdown",
   "metadata": {},
   "source": [
    "## Puzzle 3: Finding Data by Subject\n",
    "\n",
    "### Puzzle 3.1: Total Number of Grades by Subject\n",
    "\n",
    "Find the total number of each grade (\"A+\"s, \"A\"s, \"A-\"s, etc.) given by different subjects. Store the results in `df_group`."
   ]
  },
  {
   "cell_type": "code",
   "execution_count": null,
   "metadata": {
    "nbgrader": {
     "grade": false,
     "grade_id": "cell-7d31cf501bfd8025",
     "locked": false,
     "schema_version": 3,
     "solution": true,
     "task": false
    }
   },
   "outputs": [],
   "source": [
    "df_group = ...\n",
    "df_group"
   ]
  },
  {
   "cell_type": "markdown",
   "metadata": {},
   "source": [
    "### 🔬 Test Case Checkpoint 🔬"
   ]
  },
  {
   "cell_type": "code",
   "execution_count": null,
   "metadata": {
    "nbgrader": {
     "grade": true,
     "grade_id": "cell-e9ad64dffa5a1cf1",
     "locked": true,
     "points": 1,
     "schema_version": 3,
     "solution": false,
     "task": false
    }
   },
   "outputs": [],
   "source": [
    "## == TEST CASES for Puzzle 3.1 ==\n",
    "# - This read-only cell contains test cases for your previous cell.\n",
    "# - If this cell runs without any error or output, you PASSED all test cases!\n",
    "# - If this cell results in any errors, check your previous cell, make changes, RE-RUN your code, and then RE-RUN this cell.\n",
    "assert( len(df_group) == 168 ), \"Are you sure you grouped by subjects?\"\n",
    "assert( df_group[ df_group[\"Subject\"] == \"CS\" ][\"A\"].values[0] == 60835 ), \"Are you sure you counted the right number of each subject?\"\n",
    "## == SUCCESS MESSAGE ==\n",
    "# You'll only see this message (With the emoji showing) if you passed all test cases:\n",
    "tada = \"\\N{PARTY POPPER}\"\n",
    "print(f\"{tada} All tests passed! {tada}\")"
   ]
  },
  {
   "cell_type": "markdown",
   "metadata": {},
   "source": [
    "### Puzzle 3.2: Average GPA by Subject\n",
    "\n",
    "In `df_group`, add a new column called `\"Overall Average GPA\"` that computes the overall GPA of each subject at UIUC."
   ]
  },
  {
   "cell_type": "code",
   "execution_count": null,
   "metadata": {
    "nbgrader": {
     "grade": false,
     "grade_id": "cell-7d3923eba40e1f45",
     "locked": false,
     "schema_version": 3,
     "solution": true,
     "task": false
    }
   },
   "outputs": [],
   "source": []
  },
  {
   "cell_type": "markdown",
   "metadata": {},
   "source": [
    "### 🔬 Test Case Checkpoint 🔬"
   ]
  },
  {
   "cell_type": "code",
   "execution_count": null,
   "metadata": {
    "nbgrader": {
     "grade": true,
     "grade_id": "cell-81b547cf0d42b67e",
     "locked": true,
     "points": 1,
     "schema_version": 3,
     "solution": false,
     "task": false
    }
   },
   "outputs": [],
   "source": [
    "## == TEST CASES for Puzzle 3.2 ==\n",
    "# - This read-only cell contains test cases for your previous cell.\n",
    "# - If this cell runs without any error or output, you PASSED all test cases!\n",
    "# - If this cell results in any errors, check your previous cell, make changes, RE-RUN your code, and then RE-RUN this cell.\n",
    "import math\n",
    "assert( math.isclose(df_group[df_group[\"Subject\"] == \"CS\"][\"Overall Average GPA\"].values[0], 3.328369588478247) ), \"Your overall average GPA doesn't appear to be correct.\"\n",
    "## == SUCCESS MESSAGE ==\n",
    "# You'll only see this message (With the emoji showing) if you passed all test cases:\n",
    "tada = \"\\N{PARTY POPPER}\"\n",
    "print(f\"{tada} All tests passed! {tada}\")"
   ]
  },
  {
   "cell_type": "markdown",
   "metadata": {},
   "source": [
    "### Puzzle 3.3: Visualizing the Grades of Subject Equal to `\"STAT\"`\n",
    "\n",
    "Create a bar chart of the grades (`\"A+\"` to `\"F\"`) for the subject `\"STAT\"`."
   ]
  },
  {
   "cell_type": "code",
   "execution_count": null,
   "metadata": {},
   "outputs": [],
   "source": []
  },
  {
   "cell_type": "markdown",
   "metadata": {},
   "source": [
    "### Puzzle 3.4: ❓ Individual Reflection Question ❓ \n",
    "\n",
    "Bar Chart vs. Histogram\n",
    "\n",
    "Why should we use a bar chart in Puzzle 3.3? Would it make sense to use a density histogram as well? Answer this question with at least 3 complete sentences!"
   ]
  },
  {
   "cell_type": "markdown",
   "metadata": {},
   "source": [
    "*(✏️ Edit this cell to replace this text wth your answer this puzzle. ✏️)*"
   ]
  },
  {
   "cell_type": "markdown",
   "metadata": {},
   "source": [
    "### Puzzle 3.5: Find Your Major\n",
    "\n",
    "Finally, find your major in the dataset and check out how hard it is! \n",
    "\n",
    "Feel free to look around and explore! Part of being a data scientist is being creative and using Python to answer questions that you have.  Write your code below to determine how hard your major is and write comments in Puzzle 3.6 to explain what your code does. For example, what are the hardest classes in your major that have had at least 50 students?"
   ]
  },
  {
   "cell_type": "code",
   "execution_count": null,
   "metadata": {
    "nbgrader": {
     "grade": false,
     "grade_id": "cell-116a2bb23ee81616",
     "locked": false,
     "schema_version": 3,
     "solution": true,
     "task": false
    }
   },
   "outputs": [],
   "source": [
    "# Feel free to explore. Credit will be given as long as you try some new code (i.e., not directly copied from any puzzles)."
   ]
  },
  {
   "cell_type": "markdown",
   "metadata": {},
   "source": [
    "### Puzzle 3.6: ❓ Individual Reflection Question ❓ \n",
    "\n",
    "Explain what you did in Puzzle 3.5 here, as well as what you found!  This is your chance to interpret your results and teach us something that you found interesting :) Write at least 3 complete sentences."
   ]
  },
  {
   "cell_type": "markdown",
   "metadata": {},
   "source": [
    "*(✏️ Edit this cell to replace this text wth your answer this puzzle. ✏️)*"
   ]
  },
  {
   "cell_type": "markdown",
   "metadata": {},
   "source": [
    "<hr style=\"color: #DD3403;\">"
   ]
  },
  {
   "cell_type": "markdown",
   "metadata": {},
   "source": [
    "# Finale!\n",
    "\n",
    "You're almost done! All you need to do is to commit your lab to GitHub:\n",
    "\n",
    "1. Make certain to save your work. To do this, go to **File => Save All**\n",
    "\n",
    "2. After you have saved, exit this notebook and follow the Canvas instructions to commit this lab to your Git repository!\n",
    "\n",
    "3. Your TA will grade your submission and provide you feedback after the lab is due. :)"
   ]
  }
 ],
 "metadata": {
  "celltoolbar": "Create Assignment",
  "kernelspec": {
   "display_name": "Python 3.10.6 64-bit",
   "language": "python",
   "name": "python3"
  },
  "language_info": {
   "codemirror_mode": {
    "name": "ipython",
    "version": 3
   },
   "file_extension": ".py",
   "mimetype": "text/x-python",
   "name": "python",
   "nbconvert_exporter": "python",
   "pygments_lexer": "ipython3",
   "version": "3.10.5"
  },
  "vscode": {
   "interpreter": {
    "hash": "369f2c481f4da34e4445cda3fffd2e751bd1c4d706f27375911949ba6bb62e1c"
   }
  }
 },
 "nbformat": 4,
 "nbformat_minor": 4
}
